{
  "cells": [
    {
      "cell_type": "code",
      "id": "initial_id",
      "metadata": {
        "collapsed": true,
        "ExecuteTime": {
          "end_time": "2025-08-30T01:48:07.045498Z",
          "start_time": "2025-08-30T01:48:01.909372Z"
        },
        "id": "initial_id"
      },
      "source": [
        "from __future__ import annotations\n",
        "import pandas as pd\n",
        "from sklearn.compose import ColumnTransformer\n",
        "from sklearn.pipeline import Pipeline\n",
        "from sklearn.impute import SimpleImputer\n",
        "from sklearn.preprocessing import OneHotEncoder\n"
      ],
      "outputs": [],
      "execution_count": null
    },
    {
      "metadata": {
        "ExecuteTime": {
          "end_time": "2025-08-31T14:10:58.285668Z",
          "start_time": "2025-08-31T14:10:58.282981Z"
        },
        "id": "fc281a40aa3e3892"
      },
      "cell_type": "code",
      "source": [
        "# Baseline feature set (adjust to your CSV)\n",
        "BASIC_NUMERIC = [\n",
        "    \"bedrooms\", \"bathrooms\", \"sqft_living\", \"sqft_lot\",\n",
        "    \"floors\", \"year_built\", \"lat\", \"long\"\n",
        "]\n",
        "BASIC_CATEG = [\"zipcode\", \"condition\", \"grade\", \"waterfront\", \"view\"]\n"
      ],
      "id": "fc281a40aa3e3892",
      "outputs": [],
      "execution_count": null
    },
    {
      "metadata": {
        "ExecuteTime": {
          "end_time": "2025-08-30T02:20:31.628047Z",
          "start_time": "2025-08-30T02:20:31.625076Z"
        },
        "id": "800b0b2b4f7d4737"
      },
      "cell_type": "code",
      "source": [
        "def build_preprocessor(\n",
        "    numeric_cols: list[str] = BASIC_NUMERIC,\n",
        "    categ_cols: list[str] = BASIC_CATEG\n",
        ") -> ColumnTransformer:\n",
        "    num = Pipeline([(\"imputer\", SimpleImputer(strategy=\"median\"))])\n",
        "    cat = Pipeline([\n",
        "        (\"imputer\", SimpleImputer(strategy=\"most_frequent\")),\n",
        "        (\"ohe\", OneHotEncoder(handle_unknown=\"ignore\"))\n",
        "    ])\n",
        "    return ColumnTransformer([\n",
        "        (\"num\", num, numeric_cols),\n",
        "        (\"cat\", cat, categ_cols)\n",
        "    ])"
      ],
      "id": "800b0b2b4f7d4737",
      "outputs": [],
      "execution_count": null
    },
    {
      "metadata": {
        "ExecuteTime": {
          "end_time": "2025-08-30T02:20:27.989846Z",
          "start_time": "2025-08-30T02:20:27.986297Z"
        },
        "id": "69a2a32282a3be9e"
      },
      "cell_type": "code",
      "source": [
        "def load_training_frame(csv_path: str) -> pd.DataFrame:\n",
        "    df = pd.read_csv(csv_path)\n",
        "    if \"price\" not in df.columns:\n",
        "        raise ValueError(\"Training CSV must include a 'price' column as target.\")\n",
        "    # drop rows with no target\n",
        "    df = df.dropna(subset=[\"price\"])\n",
        "    return df"
      ],
      "id": "69a2a32282a3be9e",
      "outputs": [],
      "execution_count": null
    },
    {
      "cell_type": "markdown",
      "source": [
        "Hi testing collab"
      ],
      "metadata": {
        "id": "gY-wa5bEln6g"
      },
      "id": "gY-wa5bEln6g"
    }
  ],
  "metadata": {
    "kernelspec": {
      "display_name": "Python 3",
      "language": "python",
      "name": "python3"
    },
    "language_info": {
      "codemirror_mode": {
        "name": "ipython",
        "version": 2
      },
      "file_extension": ".py",
      "mimetype": "text/x-python",
      "name": "python",
      "nbconvert_exporter": "python",
      "pygments_lexer": "ipython2",
      "version": "2.7.6"
    },
    "colab": {
      "provenance": []
    }
  },
  "nbformat": 4,
  "nbformat_minor": 5
}